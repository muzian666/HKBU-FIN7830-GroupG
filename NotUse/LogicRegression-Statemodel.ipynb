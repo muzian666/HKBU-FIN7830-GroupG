{
 "cells": [
  {
   "cell_type": "code",
   "execution_count": 2,
   "id": "initial_id",
   "metadata": {
    "collapsed": true,
    "ExecuteTime": {
     "end_time": "2023-11-01T11:04:14.454749300Z",
     "start_time": "2023-11-01T11:04:14.360574600Z"
    }
   },
   "outputs": [
    {
     "name": "stdout",
     "output_type": "stream",
     "text": [
      "Deleting EmployeeCount\n",
      "Deleting Over18\n",
      "Deleting StandardHours\n",
      "Optimization terminated successfully.\n",
      "         Current function value: 0.381472\n",
      "         Iterations 7\n",
      "                           Logit Regression Results                           \n",
      "==============================================================================\n",
      "Dep. Variable:              Attrition   No. Observations:                 2466\n",
      "Model:                          Logit   Df Residuals:                     2434\n",
      "Method:                           MLE   Df Model:                           31\n",
      "Date:                Wed, 01 Nov 2023   Pseudo R-squ.:                  0.4497\n",
      "Time:                        19:04:14   Log-Likelihood:                -940.71\n",
      "converged:                       True   LL-Null:                       -1709.3\n",
      "Covariance Type:            nonrobust   LLR p-value:                3.401e-304\n",
      "============================================================================================\n",
      "                               coef    std err          z      P>|z|      [0.025      0.975]\n",
      "--------------------------------------------------------------------------------------------\n",
      "const                       15.6781      0.965     16.243      0.000      13.786      17.570\n",
      "Age                         -0.0090      0.009     -0.990      0.322      -0.027       0.009\n",
      "BusinessTravel              -0.3534      0.091     -3.872      0.000      -0.532      -0.174\n",
      "DailyRate                   -0.0003      0.000     -1.920      0.055      -0.001    6.14e-06\n",
      "Department                  -0.3494      0.157     -2.219      0.026      -0.658      -0.041\n",
      "DistanceFromHome             0.0333      0.008      4.332      0.000       0.018       0.048\n",
      "Education                   -0.2849      0.060     -4.734      0.000      -0.403      -0.167\n",
      "EducationField              -0.0438      0.047     -0.931      0.352      -0.136       0.048\n",
      "EmployeeNumber            1.868e-05      0.000      0.178      0.859      -0.000       0.000\n",
      "EnvironmentSatisfaction     -0.5922      0.058    -10.225      0.000      -0.706      -0.479\n",
      "Gender                      -0.4114      0.117     -3.507      0.000      -0.641      -0.181\n",
      "HourlyRate                  -0.0026      0.003     -0.838      0.402      -0.009       0.003\n",
      "JobInvolvement              -0.8486      0.088     -9.595      0.000      -1.022      -0.675\n",
      "JobLevel                    -0.6398      0.186     -3.435      0.001      -1.005      -0.275\n",
      "JobRole                      0.1044      0.034      3.038      0.002       0.037       0.172\n",
      "JobSatisfaction             -0.5811      0.057    -10.107      0.000      -0.694      -0.468\n",
      "MaritalStatus               -0.3443      0.107     -3.222      0.001      -0.554      -0.135\n",
      "MonthlyIncome             6.796e-05   4.43e-05      1.535      0.125   -1.88e-05       0.000\n",
      "MonthlyRate              -4.027e-06   8.37e-06     -0.481      0.630   -2.04e-05    1.24e-05\n",
      "NumCompaniesWorked           0.1031      0.027      3.802      0.000       0.050       0.156\n",
      "OverTime                     0.9831      0.133      7.404      0.000       0.723       1.243\n",
      "PercentSalaryHike           -0.0232      0.024     -0.963      0.336      -0.070       0.024\n",
      "PerformanceRating           -0.9139      0.278     -3.287      0.001      -1.459      -0.369\n",
      "RelationshipSatisfaction    -0.4532      0.058     -7.789      0.000      -0.567      -0.339\n",
      "StockOptionLevel            -1.0442      0.104    -10.033      0.000      -1.248      -0.840\n",
      "TotalWorkingYears           -0.0574      0.018     -3.118      0.002      -0.093      -0.021\n",
      "TrainingTimesLastYear       -0.3331      0.051     -6.519      0.000      -0.433      -0.233\n",
      "WorkLifeBalance             -0.5884      0.084     -6.965      0.000      -0.754      -0.423\n",
      "YearsAtCompany               0.1257      0.022      5.643      0.000       0.082       0.169\n",
      "YearsInCurrentRole          -0.1687      0.032     -5.302      0.000      -0.231      -0.106\n",
      "YearsSinceLastPromotion      0.1491      0.028      5.395      0.000       0.095       0.203\n",
      "YearsWithCurrManager        -0.1845      0.030     -6.089      0.000      -0.244      -0.125\n",
      "============================================================================================\n"
     ]
    }
   ],
   "source": [
    "import statsmodels.api as sm\n",
    "import pandas as pd\n",
    "\n",
    "# 假设你有一个名为df的DataFrame，并且它有一个名为'Attrition'的目标列和其他特征列\n",
    "df = pd.read_csv(r'C:\\Users\\LQA\\Desktop\\class\\HKBU-FIN7830-GP\\Resources\\Data\\Encoded_Resampled_HR_Analytics.csv')\n",
    "\n",
    "X = df[['Age', 'BusinessTravel', 'DailyRate', 'Department', 'DistanceFromHome',\n",
    "        'Education', 'EducationField', 'EmployeeCount', 'EmployeeNumber',\n",
    "        'EnvironmentSatisfaction', 'Gender', 'HourlyRate', 'JobInvolvement',\n",
    "        'JobLevel', 'JobRole', 'JobSatisfaction', 'MaritalStatus',\n",
    "        'MonthlyIncome', 'MonthlyRate', 'NumCompaniesWorked', 'Over18',\n",
    "        'OverTime', 'PercentSalaryHike', 'PerformanceRating',\n",
    "        'RelationshipSatisfaction', 'StandardHours', 'StockOptionLevel',\n",
    "        'TotalWorkingYears', 'TrainingTimesLastYear', 'WorkLifeBalance',\n",
    "        'YearsAtCompany', 'YearsInCurrentRole', 'YearsSinceLastPromotion',\n",
    "        'YearsWithCurrManager']]  # 自变量\n",
    "\n",
    "y = df['Attrition']  # 因变量\n",
    "\n",
    "# 删除只有一个唯一值的列\n",
    "for col in X.columns:\n",
    "        if X[col].nunique() == 1:\n",
    "                print(f\"Deleting {col}\")\n",
    "                del X[col]\n",
    "\n",
    "# 添加截距项\n",
    "X = sm.add_constant(X)\n",
    "\n",
    "# 创建并训练模型\n",
    "model = sm.Logit(y, X)\n",
    "result = model.fit()\n",
    "\n",
    "# 输出模型摘要\n",
    "print(result.summary())\n"
   ]
  }
 ],
 "metadata": {
  "kernelspec": {
   "display_name": "Python 3",
   "language": "python",
   "name": "python3"
  },
  "language_info": {
   "codemirror_mode": {
    "name": "ipython",
    "version": 2
   },
   "file_extension": ".py",
   "mimetype": "text/x-python",
   "name": "python",
   "nbconvert_exporter": "python",
   "pygments_lexer": "ipython2",
   "version": "2.7.6"
  }
 },
 "nbformat": 4,
 "nbformat_minor": 5
}
